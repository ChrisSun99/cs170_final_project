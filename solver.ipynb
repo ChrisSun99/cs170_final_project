{
 "cells": [
  {
   "cell_type": "code",
   "execution_count": 16,
   "metadata": {
    "collapsed": true
   },
   "outputs": [],
   "source": [
    "import numpy as np\n",
    "import pandas as pd"
   ]
  },
  {
   "cell_type": "code",
   "execution_count": 17,
   "metadata": {
    "collapsed": true
   },
   "outputs": [],
   "source": [
    "def convert_to_index(homes, locations):\n",
    "    new_homes = np.zeros(homes.shape, dtype=int)\n",
    "    for i in range(len(locations)):\n",
    "        indices = np.argwhere(homes == locations[i])\n",
    "        np.put(new_homes, indices, i)\n",
    "    return new_homes"
   ]
  },
  {
   "cell_type": "code",
   "execution_count": 18,
   "metadata": {
    "collapsed": true
   },
   "outputs": [],
   "source": [
    "def load(path):\n",
    "    data = np.loadtxt(path, dtype=str, skiprows=5)\n",
    "    data = np.where(data == 'x', np.inf, data)\n",
    "    data = np.array(data, dtype=float)\n",
    "    \n",
    "    locations = np.loadtxt(path, dtype=str, skiprows=2, max_rows=1)\n",
    "    \n",
    "    homes = np.loadtxt(path, dtype=str, skiprows=3, max_rows=1)\n",
    "    new_homes = convert_to_index(homes, locations)\n",
    "    \n",
    "    return data, locations, new_homes\n",
    "    "
   ]
  },
  {
   "cell_type": "code",
   "execution_count": 19,
   "metadata": {
    "collapsed": true
   },
   "outputs": [],
   "source": [
    "def all_pair_distance(data):\n",
    "    dist = np.copy(data)\n",
    "    for k in range(data.shape[0]):\n",
    "        for i in range(data.shape[0]):\n",
    "            for j in range(data.shape[0]):\n",
    "                if i == j:\n",
    "                    dist[i][j] = 0\n",
    "                else:\n",
    "                    dist[i][j] = min(dist[i][j], dist[i][k] + dist[k][j])\n",
    "    return dist"
   ]
  },
  {
   "cell_type": "code",
   "execution_count": 20,
   "metadata": {
    "collapsed": true
   },
   "outputs": [],
   "source": [
    "def initializ_centroids(dist, homes):\n",
    "    np.random.RandomState(123)\n",
    "    random_idx = np.random.permutation(homes)\n",
    "    centroids = dist[random_idx[:10]]\n",
    "    \n",
    "    return centroids"
   ]
  },
  {
   "cell_type": "code",
   "execution_count": 21,
   "metadata": {
    "collapsed": true
   },
   "outputs": [],
   "source": [
    "def find_closest_cluster(centroids):\n",
    "    clusters = np.argmin(centroids, axis=0)\n",
    "    return clusters"
   ]
  },
  {
   "cell_type": "code",
   "execution_count": 22,
   "metadata": {
    "collapsed": true
   },
   "outputs": [],
   "source": [
    "def compute_distance(dist, centroids):\n",
    "    centers = np.argmin(centroids, axis=1).flatten()\n",
    "    new_distance = dist[centers]\n",
    "    return new_distance, centers"
   ]
  },
  {
   "cell_type": "code",
   "execution_count": 23,
   "metadata": {
    "collapsed": true
   },
   "outputs": [],
   "source": [
    "def compute_centroids(dist, clusters, n_clusters, homes):\n",
    "    centroids = np.zeros((n_clusters, dist.shape[0]))\n",
    "    for k in range(n_clusters):\n",
    "        tmp = np.argwhere(clusters == k).flatten()\n",
    "        tmp = tmp[np.in1d(tmp, homes)]\n",
    "        centroids[k, :] = np.mean(dist[tmp], axis=0)\n",
    "    return centroids"
   ]
  },
  {
   "cell_type": "code",
   "execution_count": 25,
   "metadata": {
    "collapsed": true
   },
   "outputs": [],
   "source": [
    "def translate(clusters, random_idx):\n",
    "    new_clusters = np.zeros(clusters.shape, dtype=int)\n",
    "    for i in range(len(random_idx[:10])):\n",
    "        indices = np.argwhere(clusters == i)\n",
    "        np.put(new_clusters, indices, random_idx[i])\n",
    "    return new_clusters"
   ]
  },
  {
   "cell_type": "code",
   "execution_count": 26,
   "metadata": {
    "collapsed": true
   },
   "outputs": [],
   "source": [
    "def fit(dist, homes):\n",
    "    centroids = initializ_centroids(dist, homes)\n",
    "    for i in range(max_iter):\n",
    "        old_centroids = centroids\n",
    "        distance, centers = compute_distance(dist, old_centroids)\n",
    "        clusters = find_closest_cluster(distance)\n",
    "        centroids = compute_centroids(dist, clusters, n_clusters, homes)\n",
    "        if np.all(old_centroids == centroids):\n",
    "            break\n",
    "        new_clusters = translate(clusters, centers)\n",
    "    return np.argmin(centroids, axis=1), new_clusters"
   ]
  },
  {
   "cell_type": "code",
   "execution_count": null,
   "metadata": {
    "collapsed": true
   },
   "outputs": [],
   "source": [
    "def sanity_check(dist_matrix, clusters, centers, starting_location):\n",
    "    sd = np.std(dist_matrix)\n",
    "    mean = np.mean(dist_matrix)\n",
    "    check = np.zeros(dist_matrix.shape[0])\n",
    "    for i in range(dist_matrix.shape[0]):\n",
    "        check[i] = dist_matrix[i][clusters[i]]\n",
    "    for i in range(len(check)):\n",
    "        if (check[i] > mean + 2.5*sd):\n",
    "            clusters[i] = i\n",
    "            centers = np.concatenate((centers, [i]), axis=0)\n",
    "    if starting_location not in centers:\n",
    "        centers = np.concatenate((centers, [starting_location]), axis=0)\n",
    "        clusters[starting_location] = starting_location\n",
    "    return centers, clusters"
   ]
  },
  {
   "cell_type": "code",
   "execution_count": 125,
   "metadata": {
    "collapsed": true
   },
   "outputs": [],
   "source": [
    "V = n_clusters\n",
    "from sys import maxsize \n",
    "import networkx as nx\n",
    "import numpy as np\n",
    "import random\n",
    "import matplotlib.pyplot as plt\n",
    "from networkx.drawing.nx_agraph import graphviz_layout\n",
    "\n",
    "# implementation of traveling Salesman Problem \n",
    "def travellingSalesmanProblem(graph, s, path): \n",
    "    # store all vertex apart from source vertex \n",
    "    vertex = [] \n",
    "    tmp = path\n",
    "    for i in range(graph.shape[0]): \n",
    "        if i != s: \n",
    "            vertex.append(i) \n",
    "    # store minimum weight Hamiltonian Cycle \n",
    "    min_path = maxsize \n",
    "    while True: \n",
    "        # store current Path weight(cost) \n",
    "        current_pathweight = 0\n",
    "        # compute current path weight \n",
    "        k = s \n",
    "        for i in range(len(vertex)): \n",
    "            current_pathweight += graph[k][vertex[i]] \n",
    "            path.append(k)\n",
    "            k = vertex[i] \n",
    "        path.append(k)\n",
    "        current_pathweight += graph[k][s] \n",
    "        # update minimum \n",
    "        if min_path > current_pathweight:\n",
    "            min_path = current_pathweight\n",
    "            tmp = path\n",
    "        path = [] \n",
    "        if not next_permutation(vertex): \n",
    "            break\n",
    "    return min_path, tmp\n",
    "\n",
    "# next_permutation implementation \n",
    "def next_permutation(L): \n",
    "    n = len(L) \n",
    "    i = n - 2\n",
    "    while i >= 0 and L[i] >= L[i + 1]: \n",
    "        i -= 1\n",
    "    if i == -1: \n",
    "        return False\n",
    "    j = i + 1\n",
    "    while j < n and L[j] > L[i]: \n",
    "        j += 1\n",
    "    j -= 1\n",
    "    L[i], L[j] = L[j], L[i] \n",
    "    left = i + 1\n",
    "    right = n - 1\n",
    "    while left < right: \n",
    "        L[left], L[right] = L[right], L[left] \n",
    "        left += 1\n",
    "        right -= 1\n",
    "    return True"
   ]
  },
  {
   "cell_type": "code",
   "execution_count": 29,
   "metadata": {
    "collapsed": true
   },
   "outputs": [],
   "source": [
    "def dijsktra(dist, initial, end, homes):\n",
    "    shortest_paths = {initial: (None, 0)}\n",
    "    current_node = initial\n",
    "    visited = set()\n",
    "    \n",
    "    while current_node != end:\n",
    "        visited.add(current_node)\n",
    "        weight_to_current_node = shortest_paths[current_node][1]\n",
    "\n",
    "        for next_node in range(len(dist)):\n",
    "            weight = weight_to_current_node + dist[current_node][next_node]\n",
    "            if next_node not in shortest_paths:\n",
    "                shortest_paths[next_node] = (current_node, weight)\n",
    "            else:\n",
    "                current_shortest_weight = shortest_paths[next_node][1]\n",
    "                if current_shortest_weight > weight:\n",
    "                    shortest_paths[next_node] = (current_node, weight)\n",
    "        \n",
    "        next_destinations = {node: shortest_paths[node] for node in shortest_paths if node not in visited}\n",
    "        \n",
    "        for node in next_destinations:\n",
    "            if node in homes:\n",
    "                a, b = next_destinations[node]\n",
    "                next_destinations[node] = (a, 1/3*b)\n",
    "        \n",
    "        # next node is the destination with the lowest weight\n",
    "        current_node = min(next_destinations, key=lambda k: next_destinations[k][1])\n",
    "    \n",
    "    # Work back through destinations in shortest path\n",
    "    path = []\n",
    "    while current_node is not None:\n",
    "        path.append(current_node)\n",
    "        next_node = shortest_paths[current_node][0]\n",
    "        current_node = next_node\n",
    "    # Reverse path\n",
    "    path = path[::-1]\n",
    "    return path\n",
    "    "
   ]
  },
  {
   "cell_type": "code",
   "execution_count": 165,
   "metadata": {},
   "outputs": [],
   "source": [
    "path = \"./inputs/43_200.in\"\n",
    "data, locations, homes = load(path)\n",
    "max_iter = 50\n",
    "n_clusters = 10"
   ]
  },
  {
   "cell_type": "code",
   "execution_count": 166,
   "metadata": {
    "collapsed": true
   },
   "outputs": [],
   "source": [
    "dist_matrix = all_pair_distance(data)"
   ]
  },
  {
   "cell_type": "code",
   "execution_count": 167,
   "metadata": {},
   "outputs": [
    {
     "data": {
      "text/plain": [
       "array([[ inf,  inf,  10., ...,  inf,  inf, 200.],\n",
       "       [ inf,  inf,  inf, ...,  inf,  inf,  inf],\n",
       "       [ 10.,  inf,  inf, ...,  inf,  inf,  inf],\n",
       "       ...,\n",
       "       [ inf,  inf,  inf, ...,  inf,  18.,  10.],\n",
       "       [ inf,  inf,  inf, ...,  18.,  inf,  11.],\n",
       "       [200.,  inf,  inf, ...,  10.,  11.,  inf]])"
      ]
     },
     "execution_count": 167,
     "metadata": {},
     "output_type": "execute_result"
    }
   ],
   "source": [
    "data"
   ]
  },
  {
   "cell_type": "code",
   "execution_count": 168,
   "metadata": {},
   "outputs": [
    {
     "data": {
      "text/plain": [
       "array([[  0., 206.,  10., ..., 210., 211., 200.],\n",
       "       [206.,   0., 216., ..., 416., 417., 406.],\n",
       "       [ 10., 216.,   0., ..., 220., 221., 210.],\n",
       "       ...,\n",
       "       [210., 416., 220., ...,   0.,  18.,  10.],\n",
       "       [211., 417., 221., ...,  18.,   0.,  11.],\n",
       "       [200., 406., 210., ...,  10.,  11.,   0.]])"
      ]
     },
     "execution_count": 168,
     "metadata": {},
     "output_type": "execute_result"
    }
   ],
   "source": [
    "dist_matrix"
   ]
  },
  {
   "cell_type": "code",
   "execution_count": 169,
   "metadata": {},
   "outputs": [],
   "source": [
    "centers, clusters = fit(dist_matrix, homes)\n",
    "s = 0"
   ]
  },
  {
   "cell_type": "code",
   "execution_count": 170,
   "metadata": {},
   "outputs": [
    {
     "data": {
      "text/plain": [
       "array([154,  68,  87,  35, 129, 185,  79,  10, 104,  60])"
      ]
     },
     "execution_count": 170,
     "metadata": {},
     "output_type": "execute_result"
    }
   ],
   "source": [
    "centers"
   ]
  },
  {
   "cell_type": "code",
   "execution_count": 171,
   "metadata": {},
   "outputs": [],
   "source": [
    "centers, clusters = sanity_check(dist_matrix, clusters, centers, s)"
   ]
  },
  {
   "cell_type": "code",
   "execution_count": 172,
   "metadata": {},
   "outputs": [
    {
     "data": {
      "text/plain": [
       "array([154,  68,  87,  35, 129, 185,  79,  10, 104,  60,  18,  43,  93,\n",
       "       118, 143, 168, 193,   0])"
      ]
     },
     "execution_count": 172,
     "metadata": {},
     "output_type": "execute_result"
    }
   ],
   "source": [
    "centers"
   ]
  },
  {
   "cell_type": "code",
   "execution_count": 173,
   "metadata": {},
   "outputs": [
    {
     "data": {
      "text/plain": [
       "(18, 200)"
      ]
     },
     "execution_count": 173,
     "metadata": {},
     "output_type": "execute_result"
    }
   ],
   "source": [
    "dist_matrix[centers, :].shape"
   ]
  },
  {
   "cell_type": "code",
   "execution_count": 174,
   "metadata": {
    "collapsed": true
   },
   "outputs": [],
   "source": [
    "graph = dist_matrix[centers, :][:, centers]"
   ]
  },
  {
   "cell_type": "code",
   "execution_count": 175,
   "metadata": {},
   "outputs": [
    {
     "data": {
      "text/plain": [
       "array([[0.00000e+00, 7.08350e+04, 5.53000e+02, 8.21000e+02, 1.93000e+02,\n",
       "        2.64000e+02, 5.61000e+02, 5.80000e+02, 4.34000e+02, 7.79000e+02,\n",
       "        7.06600e+04, 7.09010e+04, 7.05940e+04, 7.04670e+04, 7.02260e+04,\n",
       "        7.01030e+04, 7.03440e+04, 5.45000e+02],\n",
       "       [7.08350e+04, 0.00000e+00, 7.03120e+04, 7.02730e+04, 7.06420e+04,\n",
       "        7.08300e+04, 7.02740e+04, 7.05140e+04, 7.04010e+04, 7.00800e+04,\n",
       "        1.40570e+05, 1.40329e+05, 1.40377e+05, 1.40504e+05, 1.40745e+05,\n",
       "        1.40938e+05, 1.40886e+05, 7.05490e+04],\n",
       "       [5.53000e+02, 7.03120e+04, 0.00000e+00, 4.49000e+02, 3.60000e+02,\n",
       "        8.17000e+02, 3.80000e+01, 6.90000e+02, 1.19000e+02, 2.56000e+02,\n",
       "        7.07460e+04, 7.05050e+04, 7.00950e+04, 7.02220e+04, 7.04630e+04,\n",
       "        7.06560e+04, 7.08970e+04, 7.25000e+02],\n",
       "       [8.21000e+02, 7.02730e+04, 4.49000e+02, 0.00000e+00, 7.79000e+02,\n",
       "        5.57000e+02, 4.11000e+02, 2.41000e+02, 5.38000e+02, 1.93000e+02,\n",
       "        7.02970e+04, 7.00800e+04, 7.05140e+04, 7.06410e+04, 7.08820e+04,\n",
       "        7.08540e+04, 7.06130e+04, 2.76000e+02],\n",
       "       [1.93000e+02, 7.06420e+04, 3.60000e+02, 7.79000e+02, 0.00000e+00,\n",
       "        4.57000e+02, 3.68000e+02, 7.73000e+02, 2.41000e+02, 5.86000e+02,\n",
       "        7.08530e+04, 7.08350e+04, 7.04010e+04, 7.02740e+04, 7.01030e+04,\n",
       "        7.02960e+04, 7.05370e+04, 7.38000e+02],\n",
       "       [2.64000e+02, 7.08300e+04, 8.17000e+02, 5.57000e+02, 4.57000e+02,\n",
       "        0.00000e+00, 8.25000e+02, 3.16000e+02, 6.98000e+02, 7.50000e+02,\n",
       "        7.03960e+04, 7.06370e+04, 7.08580e+04, 7.07310e+04, 7.04900e+04,\n",
       "        7.02970e+04, 7.00800e+04, 2.81000e+02],\n",
       "       [5.61000e+02, 7.02740e+04, 3.80000e+01, 4.11000e+02, 3.68000e+02,\n",
       "        8.25000e+02, 0.00000e+00, 6.52000e+02, 1.27000e+02, 2.18000e+02,\n",
       "        7.07080e+04, 7.04670e+04, 7.01030e+04, 7.02300e+04, 7.04710e+04,\n",
       "        7.06640e+04, 7.09050e+04, 6.87000e+02],\n",
       "       [5.80000e+02, 7.05140e+04, 6.90000e+02, 2.41000e+02, 7.73000e+02,\n",
       "        3.16000e+02, 6.52000e+02, 0.00000e+00, 7.79000e+02, 4.34000e+02,\n",
       "        7.00800e+04, 7.03210e+04, 7.07550e+04, 7.08820e+04, 7.08060e+04,\n",
       "        7.06130e+04, 7.03720e+04, 3.50000e+01],\n",
       "       [4.34000e+02, 7.04010e+04, 1.19000e+02, 5.38000e+02, 2.41000e+02,\n",
       "        6.98000e+02, 1.27000e+02, 7.79000e+02, 0.00000e+00, 3.45000e+02,\n",
       "        7.08350e+04, 7.05940e+04, 7.01600e+04, 7.01030e+04, 7.03440e+04,\n",
       "        7.05370e+04, 7.07780e+04, 8.14000e+02],\n",
       "       [7.79000e+02, 7.00800e+04, 2.56000e+02, 1.93000e+02, 5.86000e+02,\n",
       "        7.50000e+02, 2.18000e+02, 4.34000e+02, 3.45000e+02, 0.00000e+00,\n",
       "        7.04900e+04, 7.02490e+04, 7.03210e+04, 7.04480e+04, 7.06890e+04,\n",
       "        7.08820e+04, 7.08060e+04, 4.69000e+02],\n",
       "       [7.06600e+04, 1.40570e+05, 7.07460e+04, 7.02970e+04, 7.08530e+04,\n",
       "        7.03960e+04, 7.07080e+04, 7.00800e+04, 7.08350e+04, 7.04900e+04,\n",
       "        0.00000e+00, 1.40377e+05, 1.40811e+05, 1.40938e+05, 1.40886e+05,\n",
       "        1.40693e+05, 1.40452e+05, 7.01150e+04],\n",
       "       [7.09010e+04, 1.40329e+05, 7.05050e+04, 7.00800e+04, 7.08350e+04,\n",
       "        7.06370e+04, 7.04670e+04, 7.03210e+04, 7.05940e+04, 7.02490e+04,\n",
       "        1.40377e+05, 0.00000e+00, 1.40570e+05, 1.40697e+05, 1.40938e+05,\n",
       "        1.40934e+05, 1.40693e+05, 7.03560e+04],\n",
       "       [7.05940e+04, 1.40377e+05, 7.00950e+04, 7.05140e+04, 7.04010e+04,\n",
       "        7.08580e+04, 7.01030e+04, 7.07550e+04, 7.01600e+04, 7.03210e+04,\n",
       "        1.40811e+05, 1.40570e+05, 0.00000e+00, 1.40263e+05, 1.40504e+05,\n",
       "        1.40697e+05, 1.40938e+05, 7.07900e+04],\n",
       "       [7.04670e+04, 1.40504e+05, 7.02220e+04, 7.06410e+04, 7.02740e+04,\n",
       "        7.07310e+04, 7.02300e+04, 7.08820e+04, 7.01030e+04, 7.04480e+04,\n",
       "        1.40938e+05, 1.40697e+05, 1.40263e+05, 0.00000e+00, 1.40377e+05,\n",
       "        1.40570e+05, 1.40811e+05, 7.09170e+04],\n",
       "       [7.02260e+04, 1.40745e+05, 7.04630e+04, 7.08820e+04, 7.01030e+04,\n",
       "        7.04900e+04, 7.04710e+04, 7.08060e+04, 7.03440e+04, 7.06890e+04,\n",
       "        1.40886e+05, 1.40938e+05, 1.40504e+05, 1.40377e+05, 0.00000e+00,\n",
       "        1.40329e+05, 1.40570e+05, 7.07710e+04],\n",
       "       [7.01030e+04, 1.40938e+05, 7.06560e+04, 7.08540e+04, 7.02960e+04,\n",
       "        7.02970e+04, 7.06640e+04, 7.06130e+04, 7.05370e+04, 7.08820e+04,\n",
       "        1.40693e+05, 1.40934e+05, 1.40697e+05, 1.40570e+05, 1.40329e+05,\n",
       "        0.00000e+00, 1.40377e+05, 7.05780e+04],\n",
       "       [7.03440e+04, 1.40886e+05, 7.08970e+04, 7.06130e+04, 7.05370e+04,\n",
       "        7.00800e+04, 7.09050e+04, 7.03720e+04, 7.07780e+04, 7.08060e+04,\n",
       "        1.40452e+05, 1.40693e+05, 1.40938e+05, 1.40811e+05, 1.40570e+05,\n",
       "        1.40377e+05, 0.00000e+00, 7.03370e+04],\n",
       "       [5.45000e+02, 7.05490e+04, 7.25000e+02, 2.76000e+02, 7.38000e+02,\n",
       "        2.81000e+02, 6.87000e+02, 3.50000e+01, 8.14000e+02, 4.69000e+02,\n",
       "        7.01150e+04, 7.03560e+04, 7.07900e+04, 7.09170e+04, 7.07710e+04,\n",
       "        7.05780e+04, 7.03370e+04, 0.00000e+00]])"
      ]
     },
     "execution_count": 175,
     "metadata": {},
     "output_type": "execute_result"
    }
   ],
   "source": [
    "graph"
   ]
  },
  {
   "cell_type": "code",
   "execution_count": null,
   "metadata": {
    "collapsed": true
   },
   "outputs": [],
   "source": [
    "tsp_path = []\n",
    "min_path, tsp_path = travellingSalesmanProblem(graph, 0, tsp_path)\n",
    "tsp_path"
   ]
  },
  {
   "cell_type": "code",
   "execution_count": null,
   "metadata": {},
   "outputs": [],
   "source": [
    "tsp_path = []\n",
    "min_path, tsp_path = travellingSalesmanProblem(graph, 0, tsp_path)\n",
    "for i in range(len(tsp_path)):\n",
    "    tsp_path[i] = centers[tsp_path[i]]\n",
    "# tsp_path = np.roll(tsp_path, -tsp_path.index(s))\n",
    "tsp_path = np.concatenate((tsp_path, [tsp_path[0]]))\n",
    "print(tsp_path)"
   ]
  },
  {
   "cell_type": "code",
   "execution_count": null,
   "metadata": {},
   "outputs": [],
   "source": [
    "# find the real path using dijsktra\n",
    "real_path = []\n",
    "for i in range(len(tsp_path) - 1):\n",
    "    real_path = real_path + dijsktra(data, tsp_path[i], tsp_path[i + 1], homes)[:-1]\n",
    "real_path = real_path + [tsp_path[0]]\n",
    "print(real_path)"
   ]
  },
  {
   "cell_type": "code",
   "execution_count": 103,
   "metadata": {},
   "outputs": [],
   "source": [
    "# construct the drop_off_mapping\n",
    "helper = dist_matrix[real_path]\n",
    "mins = np.argmin(helper, axis=0)\n",
    "result = np.zeros(mins.shape)\n",
    "for i in range(len(real_path)):\n",
    "    indices = np.argwhere(mins == i)\n",
    "    np.put(result, indices, real_path[i])\n",
    "for i in range(len(result)):\n",
    "    if i not in homes:\n",
    "        result[i] = -1\n",
    "drop_off_mapping = {}\n",
    "for i in range(len(real_path)):\n",
    "    drop_off_mapping[real_path[i]] = np.argwhere(result == real_path[i]).flatten().tolist()\n",
    "    if not drop_off_mapping[real_path[i]]:\n",
    "        del drop_off_mapping[real_path[i]]"
   ]
  },
  {
   "cell_type": "code",
   "execution_count": 104,
   "metadata": {},
   "outputs": [
    {
     "data": {
      "text/plain": [
       "{0: [2,\n",
       "  5,\n",
       "  10,\n",
       "  17,\n",
       "  20,\n",
       "  23,\n",
       "  26,\n",
       "  29,\n",
       "  35,\n",
       "  40,\n",
       "  45,\n",
       "  48,\n",
       "  49,\n",
       "  51,\n",
       "  55,\n",
       "  61,\n",
       "  66,\n",
       "  68,\n",
       "  72,\n",
       "  75,\n",
       "  78,\n",
       "  104,\n",
       "  113,\n",
       "  118,\n",
       "  120,\n",
       "  123,\n",
       "  126,\n",
       "  127,\n",
       "  129,\n",
       "  162,\n",
       "  165,\n",
       "  173,\n",
       "  176,\n",
       "  184,\n",
       "  187,\n",
       "  190,\n",
       "  192,\n",
       "  196],\n",
       " 8: [8],\n",
       " 14: [14],\n",
       " 32: [32],\n",
       " 71: [71],\n",
       " 107: [107],\n",
       " 124: [124],\n",
       " 156: [156],\n",
       " 159: [159],\n",
       " 179: [179]}"
      ]
     },
     "execution_count": 104,
     "metadata": {},
     "output_type": "execute_result"
    }
   ],
   "source": [
    "drop_off_mapping"
   ]
  },
  {
   "cell_type": "code",
   "execution_count": null,
   "metadata": {
    "collapsed": true
   },
   "outputs": [],
   "source": []
  },
  {
   "cell_type": "code",
   "execution_count": null,
   "metadata": {
    "collapsed": true
   },
   "outputs": [],
   "source": [
    "path = \"./inputs/43_200.in\"\n",
    "data, locations, homes = load(path)\n",
    "dist_matrix = all_pair_distance(data)\n",
    "centers, clusters = fit(dist_matrix, homes)\n",
    "clusters, centers = sanity_check(dist_matrix, clusters, centers)"
   ]
  },
  {
   "cell_type": "code",
   "execution_count": null,
   "metadata": {
    "collapsed": true
   },
   "outputs": [],
   "source": [
    "graph = dist_matrix[centers, :][:, centers]\n",
    "s = 0\n",
    "path = []\n",
    "# print(travellingSalesmanProblem(graph, s, path)) \n",
    "min_path, path = travellingSalesmanProblem(graph, s, path)\n",
    "path.append(s)\n",
    "# print(min_path, path)\n",
    "for i in range(len(path)):\n",
    "    path[i] = centers[path[i]]"
   ]
  },
  {
   "cell_type": "code",
   "execution_count": 576,
   "metadata": {
    "collapsed": true
   },
   "outputs": [],
   "source": [
    "final = []\n",
    "for i in range(len(path) - 1):\n",
    "    final = final + dijsktra(data, path[i], path[i + 1], homes)[:-1]\n",
    "final = final + [path[0]]"
   ]
  },
  {
   "cell_type": "code",
   "execution_count": 616,
   "metadata": {
    "collapsed": true
   },
   "outputs": [],
   "source": [
    "helper = dist_matrix[final]\n",
    "mins = np.argmin(helper, axis=0)\n",
    "result = np.zeros(mins.shape)\n",
    "for i in range(len(final)):\n",
    "    indices = np.argwhere(mins == i)\n",
    "    np.put(result, indices, final[i])\n",
    "for i in range(len(result)):\n",
    "    if i not in homes:\n",
    "        result[i] = -1"
   ]
  },
  {
   "cell_type": "code",
   "execution_count": 632,
   "metadata": {
    "collapsed": true
   },
   "outputs": [],
   "source": [
    "drop_off_mapping = {}\n",
    "for i in range(len(final)):\n",
    "    drop_off_mapping[final[i]] = np.argwhere(result == final[i]).flatten().tolist()\n",
    "    if not drop_off_mapping[final[i]]:\n",
    "        del drop_off_mapping[final[i]]"
   ]
  },
  {
   "cell_type": "code",
   "execution_count": 468,
   "metadata": {},
   "outputs": [
    {
     "data": {
      "text/plain": [
       "[159, 113, 39, 70, 89, 13, 61, 66, 129, 28, 159]"
      ]
     },
     "execution_count": 468,
     "metadata": {},
     "output_type": "execute_result"
    }
   ],
   "source": [
    "# def plot():\n",
    "#     A = graph\n",
    "#     G = nx.from_numpy_matrix(np.array(A)) \n",
    "#     edge_labels = dict( ((u, v), d[\"weight\"]) for u, v, d in G.edges(data=True) )\n",
    "#     pos = nx.spr``ing_layout(G)\n",
    "#     nx.draw(G, pos, with_labels = True)\n",
    "#     nx.draw_networkx_edge_labels(G, pos, edge_labels=edge_labels)\n",
    "#     plt.show()\n",
    "# plot()"
   ]
  },
  {
   "cell_type": "code",
   "execution_count": null,
   "metadata": {
    "collapsed": true
   },
   "outputs": [],
   "source": []
  }
 ],
 "metadata": {
  "kernelspec": {
   "display_name": "Python 3",
   "language": "python",
   "name": "python3"
  },
  "language_info": {
   "codemirror_mode": {
    "name": "ipython",
    "version": 3
   },
   "file_extension": ".py",
   "mimetype": "text/x-python",
   "name": "python",
   "nbconvert_exporter": "python",
   "pygments_lexer": "ipython3",
   "version": "3.6.3"
  }
 },
 "nbformat": 4,
 "nbformat_minor": 2
}
